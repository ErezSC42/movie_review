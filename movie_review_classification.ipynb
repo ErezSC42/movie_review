{
 "cells": [
  {
   "cell_type": "code",
   "execution_count": 1,
   "metadata": {
    "pycharm": {
     "is_executing": false
    }
   },
   "outputs": [],
   "source": [
    "import torch\n",
    "import pandas as pd\n",
    "import numpy as np\n",
    "from TextCNN import TextCNN\n",
    "import gzip\n",
    "from sklearn.preprocessing import OneHotEncoder\n",
    "from sklearn.model_selection import train_test_split\n",
    "from Embedder import Embedder"
   ]
  },
  {
   "cell_type": "code",
   "execution_count": 2,
   "metadata": {
    "pycharm": {
     "is_executing": false
    }
   },
   "outputs": [],
   "source": [
    "FILENAME = \"movies.txt\"\n",
    "COLUMNS = [\"productId\",\n",
    "           \"userId\",\n",
    "           \"profileName\",\n",
    "           \"helpfulness\",\n",
    "           \"score\",\n",
    "           \"time\",\n",
    "           \"summary\",\n",
    "           \"text\"]\n",
    "COL_NUM = 8\n",
    "REVIEW_NUM = 140000\n",
    "PADDED_LEN = 200\n",
    "GLOVE_BINARY_PATH = \"glove.6B.50d.txt\""
   ]
  },
  {
   "cell_type": "code",
   "execution_count": 3,
   "metadata": {},
   "outputs": [],
   "source": [
    "df = pd.read_csv(FILENAME,\n",
    "                 header=None,\n",
    "                 delimiter=\"\\n\",\n",
    "                 error_bad_lines=False,\n",
    "                 skip_blank_lines=True,\n",
    "                 encoding=\"latin-1\",\n",
    "                 nrows=COL_NUM*REVIEW_NUM)\n",
    "df = pd.DataFrame(np.reshape(df.values,(REVIEW_NUM,COL_NUM)),columns=COLUMNS)"
   ]
  },
  {
   "cell_type": "code",
   "execution_count": 4,
   "metadata": {},
   "outputs": [],
   "source": [
    "df[\"productId\"] = df[\"productId\"].str.replace(\"product/productId:\",\"\")\n",
    "for col in COLUMNS[1:]:\n",
    "    df[col] = df[col].str.replace(\"review/\" + col + \":\",\"\")"
   ]
  },
  {
   "cell_type": "code",
   "execution_count": 5,
   "metadata": {},
   "outputs": [
    {
     "data": {
      "text/html": [
       "<div>\n",
       "<style scoped>\n",
       "    .dataframe tbody tr th:only-of-type {\n",
       "        vertical-align: middle;\n",
       "    }\n",
       "\n",
       "    .dataframe tbody tr th {\n",
       "        vertical-align: top;\n",
       "    }\n",
       "\n",
       "    .dataframe thead th {\n",
       "        text-align: right;\n",
       "    }\n",
       "</style>\n",
       "<table border=\"1\" class=\"dataframe\">\n",
       "  <thead>\n",
       "    <tr style=\"text-align: right;\">\n",
       "      <th></th>\n",
       "      <th>productId</th>\n",
       "      <th>userId</th>\n",
       "      <th>profileName</th>\n",
       "      <th>helpfulness</th>\n",
       "      <th>score</th>\n",
       "      <th>time</th>\n",
       "      <th>summary</th>\n",
       "      <th>text</th>\n",
       "    </tr>\n",
       "  </thead>\n",
       "  <tbody>\n",
       "    <tr>\n",
       "      <th>0</th>\n",
       "      <td>B003AI2VGA</td>\n",
       "      <td>A141HP4LYPWMSR</td>\n",
       "      <td>Brian E. Erland \"Rainbow Sphinx\"</td>\n",
       "      <td>7/7</td>\n",
       "      <td>3.0</td>\n",
       "      <td>1182729600</td>\n",
       "      <td>\"There Is So Much Darkness Now ~ Come For The...</td>\n",
       "      <td>Synopsis: On the daily trek from Juarez, Mexi...</td>\n",
       "    </tr>\n",
       "    <tr>\n",
       "      <th>1</th>\n",
       "      <td>B003AI2VGA</td>\n",
       "      <td>A328S9RN3U5M68</td>\n",
       "      <td>Grady Harp</td>\n",
       "      <td>4/4</td>\n",
       "      <td>3.0</td>\n",
       "      <td>1181952000</td>\n",
       "      <td>Worthwhile and Important Story Hampered by Po...</td>\n",
       "      <td>THE VIRGIN OF JUAREZ is based on true events ...</td>\n",
       "    </tr>\n",
       "    <tr>\n",
       "      <th>2</th>\n",
       "      <td>B003AI2VGA</td>\n",
       "      <td>A1I7QGUDP043DG</td>\n",
       "      <td>Chrissy K. McVay \"Writer\"</td>\n",
       "      <td>8/10</td>\n",
       "      <td>5.0</td>\n",
       "      <td>1164844800</td>\n",
       "      <td>This movie needed to be made.</td>\n",
       "      <td>The scenes in this film can be very disquieti...</td>\n",
       "    </tr>\n",
       "    <tr>\n",
       "      <th>3</th>\n",
       "      <td>B003AI2VGA</td>\n",
       "      <td>A1M5405JH9THP9</td>\n",
       "      <td>golgotha.gov</td>\n",
       "      <td>1/1</td>\n",
       "      <td>3.0</td>\n",
       "      <td>1197158400</td>\n",
       "      <td>distantly based on a real tragedy</td>\n",
       "      <td>THE VIRGIN OF JUAREZ (2006)&lt;br /&gt;directed by ...</td>\n",
       "    </tr>\n",
       "    <tr>\n",
       "      <th>4</th>\n",
       "      <td>B003AI2VGA</td>\n",
       "      <td>ATXL536YX71TR</td>\n",
       "      <td>KerrLines \"&amp;#34;Movies,Music,Theatre&amp;#34;\"</td>\n",
       "      <td>1/1</td>\n",
       "      <td>3.0</td>\n",
       "      <td>1188345600</td>\n",
       "      <td>\"What's going on down in Juarez and shining a...</td>\n",
       "      <td>Informationally, this SHOWTIME original is es...</td>\n",
       "    </tr>\n",
       "  </tbody>\n",
       "</table>\n",
       "</div>"
      ],
      "text/plain": [
       "     productId           userId                                  profileName  \\\n",
       "0   B003AI2VGA   A141HP4LYPWMSR             Brian E. Erland \"Rainbow Sphinx\"   \n",
       "1   B003AI2VGA   A328S9RN3U5M68                                   Grady Harp   \n",
       "2   B003AI2VGA   A1I7QGUDP043DG                    Chrissy K. McVay \"Writer\"   \n",
       "3   B003AI2VGA   A1M5405JH9THP9                                 golgotha.gov   \n",
       "4   B003AI2VGA    ATXL536YX71TR   KerrLines \"&#34;Movies,Music,Theatre&#34;\"   \n",
       "\n",
       "  helpfulness score         time  \\\n",
       "0         7/7   3.0   1182729600   \n",
       "1         4/4   3.0   1181952000   \n",
       "2        8/10   5.0   1164844800   \n",
       "3         1/1   3.0   1197158400   \n",
       "4         1/1   3.0   1188345600   \n",
       "\n",
       "                                             summary  \\\n",
       "0   \"There Is So Much Darkness Now ~ Come For The...   \n",
       "1   Worthwhile and Important Story Hampered by Po...   \n",
       "2                      This movie needed to be made.   \n",
       "3                  distantly based on a real tragedy   \n",
       "4   \"What's going on down in Juarez and shining a...   \n",
       "\n",
       "                                                text  \n",
       "0   Synopsis: On the daily trek from Juarez, Mexi...  \n",
       "1   THE VIRGIN OF JUAREZ is based on true events ...  \n",
       "2   The scenes in this film can be very disquieti...  \n",
       "3   THE VIRGIN OF JUAREZ (2006)<br />directed by ...  \n",
       "4   Informationally, this SHOWTIME original is es...  "
      ]
     },
     "execution_count": 5,
     "metadata": {},
     "output_type": "execute_result"
    }
   ],
   "source": [
    "df.head()"
   ]
  },
  {
   "cell_type": "code",
   "execution_count": 6,
   "metadata": {},
   "outputs": [
    {
     "name": "stderr",
     "output_type": "stream",
     "text": [
      "/home/deep3/text/lib/python3.6/site-packages/sklearn/preprocessing/_encoders.py:415: FutureWarning: The handling of integer data will change in version 0.22. Currently, the categories are determined based on the range [0, max(values)], while in the future they will be determined based on the unique values.\n",
      "If you want the future behaviour and silence this warning, you can specify \"categories='auto'\".\n",
      "In case you used a LabelEncoder before this OneHotEncoder to convert the categories to integers, then you can now use the OneHotEncoder directly.\n",
      "  warnings.warn(msg, FutureWarning)\n"
     ]
    }
   ],
   "source": [
    "X = df[\"text\"]\n",
    "y = df[\"score\"].astype(\"float\").astype(\"int\").values.reshape([-1,1])\n",
    "y_one_hot = OneHotEncoder().fit_transform(y).toarray()"
   ]
  },
  {
   "cell_type": "code",
   "execution_count": 7,
   "metadata": {},
   "outputs": [],
   "source": [
    "#df[df[\"score\"] == \"review/helpfulness: 0/0\"]\n"
   ]
  },
  {
   "cell_type": "code",
   "execution_count": 8,
   "metadata": {
    "scrolled": true
   },
   "outputs": [
    {
     "name": "stdout",
     "output_type": "stream",
     "text": [
      "140000\n"
     ]
    }
   ],
   "source": [
    "embedder = Embedder(None,50,PADDED_LEN,GLOVE_BINARY_PATH)\n",
    "X_embedded = embedder.str_series_to_image(X)"
   ]
  },
  {
   "cell_type": "code",
   "execution_count": 9,
   "metadata": {},
   "outputs": [],
   "source": [
    "import torch.optim as optim\n",
    "import torch.nn as nn\n",
    "from torch.utils.data import TensorDataset,DataLoader"
   ]
  },
  {
   "cell_type": "code",
   "execution_count": 10,
   "metadata": {},
   "outputs": [],
   "source": [
    "LEARNING_RATE = 0.025\n",
    "FC_LAYER = 100\n",
    "CLASSES_LEN = 5\n",
    "EMBEDDING_DIM = 50\n",
    "CONV_FILTERS = 512\n",
    "EPOCHS = 100\n",
    "TRAIN_TEST_RATION = 0.15\n",
    "TRAIN_SIZE = (1 - TRAIN_TEST_RATION) * len(X_embedded)\n",
    "TEST_SIZE = (TRAIN_TEST_RATION) * len(X_embedded)"
   ]
  },
  {
   "cell_type": "code",
   "execution_count": 11,
   "metadata": {},
   "outputs": [],
   "source": [
    "device = torch.device(\"cuda\" if torch.cuda.is_available() else \"cpu\")"
   ]
  },
  {
   "cell_type": "code",
   "execution_count": 12,
   "metadata": {},
   "outputs": [],
   "source": [
    "X_train, X_test, y_train, y_test = train_test_split(X_embedded, y_one_hot, test_size=TRAIN_TEST_RATION)\n",
    "X_train = X_train.reshape([-1,1,PADDED_LEN,EMBEDDING_DIM])\n",
    "X_test = X_test.reshape([-1,1,PADDED_LEN,EMBEDDING_DIM])\n",
    "X_train_tensor = torch.Tensor(X_train).to(device)\n",
    "X_test_tensor = torch.Tensor(X_test).to(device)\n",
    "y_train_tensor = torch.Tensor(y_train).long().to(device)\n",
    "y_test_tensor = torch.Tensor(y_test).long().to(device)\n",
    "#y_train_tensor = torch.Tensor(y_train).to(device)\n",
    "#y_test_tensor = torch.Tensor(y_test).to(device)\n",
    "\n",
    "train_dataset = TensorDataset(X_train_tensor,y_train_tensor)\n",
    "test_dataset = TensorDataset(X_test_tensor,y_test_tensor)\n",
    "trainloader = DataLoader(train_dataset, batch_size=256, shuffle=True)\n",
    "testloader = DataLoader(test_dataset, batch_size=256, shuffle=False)"
   ]
  },
  {
   "cell_type": "code",
   "execution_count": 13,
   "metadata": {},
   "outputs": [
    {
     "data": {
      "text/plain": [
       "TextCNN(\n",
       "  (conv3): Conv2d(1, 512, kernel_size=(3, 50), stride=(1, 1))\n",
       "  (conv4): Conv2d(1, 512, kernel_size=(4, 50), stride=(1, 1))\n",
       "  (conv5): Conv2d(1, 512, kernel_size=(5, 50), stride=(1, 1))\n",
       "  (Max3_pool): MaxPool2d(kernel_size=(198, 1), stride=(198, 1), padding=0, dilation=1, ceil_mode=False)\n",
       "  (Max4_pool): MaxPool2d(kernel_size=(197, 1), stride=(197, 1), padding=0, dilation=1, ceil_mode=False)\n",
       "  (Max5_pool): MaxPool2d(kernel_size=(196, 1), stride=(196, 1), padding=0, dilation=1, ceil_mode=False)\n",
       "  (fc1): Linear(in_features=1536, out_features=100, bias=True)\n",
       "  (bn1): BatchNorm1d(100, eps=1e-05, momentum=0.1, affine=True, track_running_stats=True)\n",
       "  (dropout1): Dropout(p=0.5)\n",
       "  (linear1): Linear(in_features=100, out_features=5, bias=True)\n",
       ")"
      ]
     },
     "execution_count": 13,
     "metadata": {},
     "output_type": "execute_result"
    }
   ],
   "source": [
    "model = TextCNN(hidden_units=FC_LAYER,\n",
    "                output_len=CLASSES_LEN,\n",
    "                textcnn_filter_count=CONV_FILTERS,\n",
    "                sentence_max_size=PADDED_LEN,\n",
    "                word_embedding_dimension=EMBEDDING_DIM)\n",
    "criterion = nn.CrossEntropyLoss()\n",
    "#criterion = nn.MSELoss()\n",
    "optimizer = torch.optim.Adam(model.parameters(),weight_decay=1e-5)\n",
    "model.to(device)"
   ]
  },
  {
   "cell_type": "code",
   "execution_count": 14,
   "metadata": {},
   "outputs": [
    {
     "data": {
      "text/plain": [
       "(119000, 1, 200, 50)"
      ]
     },
     "execution_count": 14,
     "metadata": {},
     "output_type": "execute_result"
    }
   ],
   "source": [
    "X_train.shape"
   ]
  },
  {
   "cell_type": "code",
   "execution_count": 15,
   "metadata": {},
   "outputs": [],
   "source": [
    "def check_accuracy_classification(data_loader,model,name):\n",
    "    correct = 0\n",
    "    total = 0\n",
    "    total = len(data_loader)\n",
    "    testloader.dataset.tensors[0]\n",
    "    with torch.no_grad():\n",
    "        for data in data_loader:\n",
    "            images, labels = data\n",
    "            outputs = model(images)\n",
    "            labels = torch.max(labels, 1)[1]\n",
    "            _, predicted = torch.max(outputs.data, 1)\n",
    "            total += labels.size(0)\n",
    "            correct += (predicted == labels).sum().item()\n",
    "    print('Accuracy of the network on the '+name +' reviews: %d %%' % (100 * correct / total))\n"
   ]
  },
  {
   "cell_type": "code",
   "execution_count": 16,
   "metadata": {},
   "outputs": [],
   "source": [
    "def check_accuracy_mse(data_loader,model,name):\n",
    "    batch_losses = []\n",
    "    with torch.no_grad():\n",
    "        for data in data_loader:\n",
    "            images, labels = data\n",
    "            outputs = model(images)\n",
    "            loss = criterion(outputs, labels)\n",
    "            batch_losses.append(loss.item())\n",
    "    #print(batch_losses)\n",
    "    mse = np.array(batch_losses).mean()\n",
    "    print('MSE of the network on the '+name +' reviews: %f' % mse)"
   ]
  },
  {
   "cell_type": "code",
   "execution_count": 17,
   "metadata": {},
   "outputs": [
    {
     "name": "stdout",
     "output_type": "stream",
     "text": [
      "[1,   465] loss: 264.910\n",
      "Accuracy of the network on the train reviews: 60 %\n",
      "Accuracy of the network on the test reviews: 59 %\n",
      "[2,   465] loss: 231.145\n",
      "Accuracy of the network on the train reviews: 61 %\n",
      "Accuracy of the network on the test reviews: 59 %\n",
      "[3,   465] loss: 223.144\n",
      "Accuracy of the network on the train reviews: 63 %\n",
      "Accuracy of the network on the test reviews: 60 %\n",
      "[4,   465] loss: 215.673\n",
      "Accuracy of the network on the train reviews: 62 %\n",
      "Accuracy of the network on the test reviews: 59 %\n",
      "[5,   465] loss: 211.524\n",
      "Accuracy of the network on the train reviews: 64 %\n",
      "Accuracy of the network on the test reviews: 59 %\n",
      "[6,   465] loss: 203.166\n",
      "Accuracy of the network on the train reviews: 66 %\n",
      "Accuracy of the network on the test reviews: 60 %\n",
      "[7,   465] loss: 195.658\n",
      "Accuracy of the network on the train reviews: 68 %\n",
      "Accuracy of the network on the test reviews: 60 %\n",
      "[8,   465] loss: 188.151\n",
      "Accuracy of the network on the train reviews: 69 %\n",
      "Accuracy of the network on the test reviews: 60 %\n",
      "[9,   465] loss: 180.651\n",
      "Accuracy of the network on the train reviews: 70 %\n",
      "Accuracy of the network on the test reviews: 60 %\n",
      "[10,   465] loss: 171.631\n",
      "Accuracy of the network on the train reviews: 71 %\n",
      "Accuracy of the network on the test reviews: 60 %\n",
      "[11,   465] loss: 165.312\n",
      "Accuracy of the network on the train reviews: 73 %\n",
      "Accuracy of the network on the test reviews: 59 %\n",
      "[12,   465] loss: 155.847\n",
      "Accuracy of the network on the train reviews: 74 %\n",
      "Accuracy of the network on the test reviews: 60 %\n",
      "[13,   465] loss: 153.629\n",
      "Accuracy of the network on the train reviews: 74 %\n",
      "Accuracy of the network on the test reviews: 59 %\n",
      "[14,   465] loss: 145.886\n",
      "Accuracy of the network on the train reviews: 75 %\n",
      "Accuracy of the network on the test reviews: 59 %\n",
      "[15,   465] loss: 141.568\n",
      "Accuracy of the network on the train reviews: 76 %\n",
      "Accuracy of the network on the test reviews: 60 %\n",
      "[16,   465] loss: 137.442\n",
      "Accuracy of the network on the train reviews: 77 %\n",
      "Accuracy of the network on the test reviews: 60 %\n",
      "[17,   465] loss: 132.154\n",
      "Accuracy of the network on the train reviews: 77 %\n",
      "Accuracy of the network on the test reviews: 59 %\n",
      "[18,   465] loss: 128.022\n",
      "Accuracy of the network on the train reviews: 78 %\n",
      "Accuracy of the network on the test reviews: 59 %\n",
      "[19,   465] loss: 123.820\n",
      "Accuracy of the network on the train reviews: 78 %\n",
      "Accuracy of the network on the test reviews: 60 %\n",
      "[20,   465] loss: 119.693\n",
      "Accuracy of the network on the train reviews: 79 %\n",
      "Accuracy of the network on the test reviews: 59 %\n",
      "[21,   465] loss: 117.619\n",
      "Accuracy of the network on the train reviews: 79 %\n",
      "Accuracy of the network on the test reviews: 60 %\n",
      "[22,   465] loss: 112.708\n",
      "Accuracy of the network on the train reviews: 81 %\n",
      "Accuracy of the network on the test reviews: 59 %\n",
      "[23,   465] loss: 107.322\n",
      "Accuracy of the network on the train reviews: 81 %\n",
      "Accuracy of the network on the test reviews: 59 %\n",
      "[24,   465] loss: 105.455\n",
      "Accuracy of the network on the train reviews: 82 %\n",
      "Accuracy of the network on the test reviews: 60 %\n",
      "[25,   465] loss: 101.756\n",
      "Accuracy of the network on the train reviews: 82 %\n",
      "Accuracy of the network on the test reviews: 59 %\n",
      "[26,   465] loss: 97.960\n",
      "Accuracy of the network on the train reviews: 83 %\n",
      "Accuracy of the network on the test reviews: 60 %\n",
      "[27,   465] loss: 94.065\n",
      "Accuracy of the network on the train reviews: 83 %\n",
      "Accuracy of the network on the test reviews: 59 %\n",
      "[28,   465] loss: 90.357\n",
      "Accuracy of the network on the train reviews: 84 %\n",
      "Accuracy of the network on the test reviews: 60 %\n",
      "[29,   465] loss: 86.047\n",
      "Accuracy of the network on the train reviews: 86 %\n",
      "Accuracy of the network on the test reviews: 60 %\n",
      "[30,   465] loss: 80.086\n",
      "Accuracy of the network on the train reviews: 86 %\n",
      "Accuracy of the network on the test reviews: 60 %\n",
      "[31,   465] loss: 76.935\n",
      "Accuracy of the network on the train reviews: 87 %\n",
      "Accuracy of the network on the test reviews: 60 %\n",
      "[32,   465] loss: 75.484\n",
      "Accuracy of the network on the train reviews: 86 %\n",
      "Accuracy of the network on the test reviews: 59 %\n",
      "[33,   465] loss: 74.573\n",
      "Accuracy of the network on the train reviews: 87 %\n",
      "Accuracy of the network on the test reviews: 59 %\n",
      "[34,   465] loss: 74.561\n",
      "Accuracy of the network on the train reviews: 88 %\n",
      "Accuracy of the network on the test reviews: 60 %\n",
      "[35,   465] loss: 72.121\n",
      "Accuracy of the network on the train reviews: 87 %\n",
      "Accuracy of the network on the test reviews: 59 %\n",
      "[36,   465] loss: 71.178\n",
      "Accuracy of the network on the train reviews: 88 %\n",
      "Accuracy of the network on the test reviews: 60 %\n",
      "[37,   465] loss: 68.126\n",
      "Accuracy of the network on the train reviews: 88 %\n",
      "Accuracy of the network on the test reviews: 60 %\n",
      "[38,   465] loss: 68.162\n",
      "Accuracy of the network on the train reviews: 88 %\n",
      "Accuracy of the network on the test reviews: 60 %\n",
      "[39,   465] loss: 67.264\n",
      "Accuracy of the network on the train reviews: 88 %\n",
      "Accuracy of the network on the test reviews: 60 %\n",
      "[40,   465] loss: 66.753\n",
      "Accuracy of the network on the train reviews: 88 %\n",
      "Accuracy of the network on the test reviews: 60 %\n",
      "[41,   465] loss: 65.341\n",
      "Accuracy of the network on the train reviews: 88 %\n",
      "Accuracy of the network on the test reviews: 59 %\n",
      "[42,   465] loss: 64.276\n",
      "Accuracy of the network on the train reviews: 89 %\n",
      "Accuracy of the network on the test reviews: 60 %\n",
      "[43,   465] loss: 63.218\n",
      "Accuracy of the network on the train reviews: 89 %\n",
      "Accuracy of the network on the test reviews: 60 %\n",
      "[44,   465] loss: 60.996\n",
      "Accuracy of the network on the train reviews: 88 %\n",
      "Accuracy of the network on the test reviews: 60 %\n",
      "[45,   465] loss: 65.899\n",
      "Accuracy of the network on the train reviews: 88 %\n",
      "Accuracy of the network on the test reviews: 60 %\n",
      "[46,   465] loss: 66.077\n",
      "Accuracy of the network on the train reviews: 88 %\n",
      "Accuracy of the network on the test reviews: 60 %\n",
      "[47,   465] loss: 65.450\n",
      "Accuracy of the network on the train reviews: 89 %\n",
      "Accuracy of the network on the test reviews: 60 %\n",
      "[48,   465] loss: 60.324\n",
      "Accuracy of the network on the train reviews: 89 %\n",
      "Accuracy of the network on the test reviews: 60 %\n",
      "[49,   465] loss: 59.523\n",
      "Accuracy of the network on the train reviews: 90 %\n",
      "Accuracy of the network on the test reviews: 60 %\n",
      "[50,   465] loss: 57.667\n",
      "Accuracy of the network on the train reviews: 89 %\n",
      "Accuracy of the network on the test reviews: 60 %\n",
      "[51,   465] loss: 56.833\n",
      "Accuracy of the network on the train reviews: 90 %\n",
      "Accuracy of the network on the test reviews: 60 %\n",
      "[52,   465] loss: 55.823\n",
      "Accuracy of the network on the train reviews: 90 %\n",
      "Accuracy of the network on the test reviews: 60 %\n",
      "[53,   465] loss: 57.708\n",
      "Accuracy of the network on the train reviews: 89 %\n",
      "Accuracy of the network on the test reviews: 60 %\n",
      "[54,   465] loss: 58.909\n",
      "Accuracy of the network on the train reviews: 89 %\n",
      "Accuracy of the network on the test reviews: 60 %\n",
      "[55,   465] loss: 58.076\n",
      "Accuracy of the network on the train reviews: 89 %\n",
      "Accuracy of the network on the test reviews: 60 %\n",
      "[56,   465] loss: 59.044\n",
      "Accuracy of the network on the train reviews: 89 %\n",
      "Accuracy of the network on the test reviews: 60 %\n",
      "[57,   465] loss: 59.411\n",
      "Accuracy of the network on the train reviews: 89 %\n",
      "Accuracy of the network on the test reviews: 61 %\n",
      "[58,   465] loss: 55.310\n",
      "Accuracy of the network on the train reviews: 90 %\n",
      "Accuracy of the network on the test reviews: 60 %\n",
      "[59,   465] loss: 53.324\n",
      "Accuracy of the network on the train reviews: 90 %\n",
      "Accuracy of the network on the test reviews: 60 %\n",
      "[60,   465] loss: 52.839\n",
      "Accuracy of the network on the train reviews: 91 %\n",
      "Accuracy of the network on the test reviews: 60 %\n",
      "[61,   465] loss: 51.731\n",
      "Accuracy of the network on the train reviews: 91 %\n",
      "Accuracy of the network on the test reviews: 60 %\n",
      "[62,   465] loss: 49.698\n",
      "Accuracy of the network on the train reviews: 91 %\n",
      "Accuracy of the network on the test reviews: 60 %\n",
      "[63,   465] loss: 50.463\n",
      "Accuracy of the network on the train reviews: 91 %\n",
      "Accuracy of the network on the test reviews: 60 %\n",
      "[64,   465] loss: 48.217\n",
      "Accuracy of the network on the train reviews: 91 %\n",
      "Accuracy of the network on the test reviews: 60 %\n",
      "[65,   465] loss: 46.078\n",
      "Accuracy of the network on the train reviews: 91 %\n",
      "Accuracy of the network on the test reviews: 61 %\n"
     ]
    },
    {
     "name": "stdout",
     "output_type": "stream",
     "text": [
      "[66,   465] loss: 45.012\n",
      "Accuracy of the network on the train reviews: 92 %\n",
      "Accuracy of the network on the test reviews: 61 %\n",
      "[67,   465] loss: 43.751\n",
      "Accuracy of the network on the train reviews: 92 %\n",
      "Accuracy of the network on the test reviews: 61 %\n",
      "[68,   465] loss: 43.616\n",
      "Accuracy of the network on the train reviews: 92 %\n",
      "Accuracy of the network on the test reviews: 60 %\n",
      "[69,   465] loss: 42.957\n",
      "Accuracy of the network on the train reviews: 92 %\n",
      "Accuracy of the network on the test reviews: 61 %\n",
      "[70,   465] loss: 42.408\n",
      "Accuracy of the network on the train reviews: 92 %\n",
      "Accuracy of the network on the test reviews: 61 %\n",
      "[71,   465] loss: 41.432\n",
      "Accuracy of the network on the train reviews: 92 %\n",
      "Accuracy of the network on the test reviews: 61 %\n",
      "[72,   465] loss: 41.022\n",
      "Accuracy of the network on the train reviews: 93 %\n",
      "Accuracy of the network on the test reviews: 61 %\n",
      "[73,   465] loss: 40.561\n",
      "Accuracy of the network on the train reviews: 93 %\n",
      "Accuracy of the network on the test reviews: 61 %\n",
      "[74,   465] loss: 40.947\n",
      "Accuracy of the network on the train reviews: 93 %\n",
      "Accuracy of the network on the test reviews: 60 %\n",
      "[75,   465] loss: 41.033\n",
      "Accuracy of the network on the train reviews: 93 %\n",
      "Accuracy of the network on the test reviews: 60 %\n",
      "[76,   465] loss: 40.188\n",
      "Accuracy of the network on the train reviews: 93 %\n",
      "Accuracy of the network on the test reviews: 61 %\n",
      "[77,   465] loss: 41.269\n",
      "Accuracy of the network on the train reviews: 92 %\n",
      "Accuracy of the network on the test reviews: 60 %\n",
      "[78,   465] loss: 41.189\n",
      "Accuracy of the network on the train reviews: 92 %\n",
      "Accuracy of the network on the test reviews: 60 %\n",
      "[79,   465] loss: 41.168\n",
      "Accuracy of the network on the train reviews: 93 %\n",
      "Accuracy of the network on the test reviews: 60 %\n",
      "[80,   465] loss: 39.912\n",
      "Accuracy of the network on the train reviews: 93 %\n",
      "Accuracy of the network on the test reviews: 61 %\n",
      "[81,   465] loss: 42.752\n",
      "Accuracy of the network on the train reviews: 92 %\n",
      "Accuracy of the network on the test reviews: 60 %\n",
      "[82,   465] loss: 42.366\n",
      "Accuracy of the network on the train reviews: 93 %\n",
      "Accuracy of the network on the test reviews: 60 %\n",
      "[83,   465] loss: 39.993\n",
      "Accuracy of the network on the train reviews: 93 %\n",
      "Accuracy of the network on the test reviews: 60 %\n",
      "[84,   465] loss: 41.263\n",
      "Accuracy of the network on the train reviews: 92 %\n",
      "Accuracy of the network on the test reviews: 61 %\n",
      "[85,   465] loss: 40.490\n",
      "Accuracy of the network on the train reviews: 93 %\n",
      "Accuracy of the network on the test reviews: 61 %\n",
      "[86,   465] loss: 39.761\n",
      "Accuracy of the network on the train reviews: 93 %\n",
      "Accuracy of the network on the test reviews: 61 %\n",
      "[87,   465] loss: 40.509\n",
      "Accuracy of the network on the train reviews: 92 %\n",
      "Accuracy of the network on the test reviews: 60 %\n",
      "[88,   465] loss: 42.612\n",
      "Accuracy of the network on the train reviews: 92 %\n",
      "Accuracy of the network on the test reviews: 60 %\n",
      "[89,   465] loss: 41.522\n",
      "Accuracy of the network on the train reviews: 92 %\n",
      "Accuracy of the network on the test reviews: 60 %\n",
      "[90,   465] loss: 39.050\n",
      "Accuracy of the network on the train reviews: 93 %\n",
      "Accuracy of the network on the test reviews: 60 %\n",
      "[91,   465] loss: 38.487\n",
      "Accuracy of the network on the train reviews: 93 %\n",
      "Accuracy of the network on the test reviews: 60 %\n",
      "[92,   465] loss: 39.311\n",
      "Accuracy of the network on the train reviews: 93 %\n",
      "Accuracy of the network on the test reviews: 60 %\n",
      "[93,   465] loss: 39.312\n",
      "Accuracy of the network on the train reviews: 93 %\n",
      "Accuracy of the network on the test reviews: 61 %\n",
      "[94,   465] loss: 39.705\n",
      "Accuracy of the network on the train reviews: 92 %\n",
      "Accuracy of the network on the test reviews: 60 %\n",
      "[95,   465] loss: 39.350\n",
      "Accuracy of the network on the train reviews: 92 %\n",
      "Accuracy of the network on the test reviews: 61 %\n",
      "[96,   465] loss: 38.526\n",
      "Accuracy of the network on the train reviews: 93 %\n",
      "Accuracy of the network on the test reviews: 61 %\n",
      "[97,   465] loss: 38.721\n",
      "Accuracy of the network on the train reviews: 93 %\n",
      "Accuracy of the network on the test reviews: 60 %\n",
      "[98,   465] loss: 41.719\n",
      "Accuracy of the network on the train reviews: 93 %\n",
      "Accuracy of the network on the test reviews: 60 %\n",
      "[99,   465] loss: 40.077\n",
      "Accuracy of the network on the train reviews: 93 %\n",
      "Accuracy of the network on the test reviews: 60 %\n",
      "[100,   465] loss: 38.589\n",
      "Accuracy of the network on the train reviews: 93 %\n",
      "Accuracy of the network on the test reviews: 60 %\n",
      "Finished Training\n"
     ]
    }
   ],
   "source": [
    "for epoch in range(EPOCHS):  # loop over the dataset multiple times\n",
    "    running_loss = 0.0\n",
    "    for i, data in enumerate(trainloader, 0):\n",
    "        # get the inputs; data is a list of [inputs, labels]\n",
    "        inputs, labels = data\n",
    "        \n",
    "        # forward + backward + optimize\n",
    "        outputs = model(inputs)\n",
    "        #loss = criterion(outputs,labels)\n",
    "        loss = criterion(outputs, torch.max(labels, 1)[1])\n",
    "        loss.backward()\n",
    "        optimizer.step()\n",
    "        # zero the parameter gradients\n",
    "        optimizer.zero_grad()\n",
    "        # print statistics\n",
    "        running_loss += loss.item()\n",
    "        #if i % 100 == 0:    # print every 2000 mini-batches\n",
    "    print('[%d, %5d] loss: %.3f' % (epoch + 1, i + 1, running_loss / 2))\n",
    "    #print('epoch: [%d] loss: %.3f' % (epoch + 1, running_loss))\n",
    "    check_accuracy_classification(trainloader,model,\"train\")\n",
    "    check_accuracy_classification(testloader,model,\"test\")\n",
    "#     check_accuracy_mse(trainloader,model,\"train\")\n",
    "#     check_accuracy_mse(testloader,model,\"test\")\n",
    "print('Finished Training')"
   ]
  },
  {
   "cell_type": "code",
   "execution_count": 18,
   "metadata": {},
   "outputs": [
    {
     "name": "stdout",
     "output_type": "stream",
     "text": [
      "Accuracy of the network on the 21000.0 test reviews: 61 %\n"
     ]
    }
   ],
   "source": [
    "correct = 0\n",
    "total = 0\n",
    "with torch.no_grad():\n",
    "    for data in testloader:\n",
    "        images, labels = data\n",
    "        outputs = model(images)\n",
    "        labels = torch.max(labels, 1)[1]\n",
    "        _, predicted = torch.max(outputs.data, 1)\n",
    "        total += labels.size(0)\n",
    "        correct += (predicted == labels).sum().item()\n",
    "print('Accuracy of the network on the '+ str(TEST_SIZE) +' test reviews: %d %%' % (100 * correct / total))\n"
   ]
  },
  {
   "cell_type": "code",
   "execution_count": 19,
   "metadata": {},
   "outputs": [
    {
     "name": "stdout",
     "output_type": "stream",
     "text": [
      "Accuracy of the network on the 119000.0 train reviews: 93 %\n"
     ]
    }
   ],
   "source": [
    "correct = 0\n",
    "total = 0\n",
    "with torch.no_grad():\n",
    "    for data in trainloader:\n",
    "        images, labels = data\n",
    "        outputs = model(images)\n",
    "        labels = torch.max(labels, 1)[1]\n",
    "        _, predicted = torch.max(outputs.data, 1)\n",
    "        total += labels.size(0)\n",
    "        correct += (predicted == labels).sum().item()\n",
    "print('Accuracy of the network on the ' + str(TRAIN_SIZE) + ' train reviews: %d %%' % (100 * correct / total))\n"
   ]
  },
  {
   "cell_type": "code",
   "execution_count": 20,
   "metadata": {},
   "outputs": [
    {
     "ename": "RuntimeError",
     "evalue": "size mismatch, m1: [1 x 231936], m2: [1536 x 100] at /pytorch/aten/src/THC/generic/THCTensorMathBlas.cu:268",
     "output_type": "error",
     "traceback": [
      "\u001b[0;31m---------------------------------------------------------------------------\u001b[0m",
      "\u001b[0;31mRuntimeError\u001b[0m                              Traceback (most recent call last)",
      "\u001b[0;32m<ipython-input-20-f148ded815f4>\u001b[0m in \u001b[0;36m<module>\u001b[0;34m\u001b[0m\n\u001b[1;32m      2\u001b[0m \u001b[0mreview\u001b[0m \u001b[0;34m=\u001b[0m \u001b[0;34m\"the movie was perfect\"\u001b[0m\u001b[0;34m\u001b[0m\u001b[0;34m\u001b[0m\u001b[0m\n\u001b[1;32m      3\u001b[0m \u001b[0;32mwith\u001b[0m \u001b[0mtorch\u001b[0m\u001b[0;34m.\u001b[0m\u001b[0mno_grad\u001b[0m\u001b[0;34m(\u001b[0m\u001b[0;34m)\u001b[0m\u001b[0;34m:\u001b[0m\u001b[0;34m\u001b[0m\u001b[0;34m\u001b[0m\u001b[0m\n\u001b[0;32m----> 4\u001b[0;31m     \u001b[0mres\u001b[0m \u001b[0;34m=\u001b[0m \u001b[0mmodel\u001b[0m\u001b[0;34m(\u001b[0m\u001b[0mtorch\u001b[0m\u001b[0;34m.\u001b[0m\u001b[0mTensor\u001b[0m\u001b[0;34m(\u001b[0m\u001b[0membedder\u001b[0m\u001b[0;34m.\u001b[0m\u001b[0mstr_to_image\u001b[0m\u001b[0;34m(\u001b[0m\u001b[0mreview\u001b[0m\u001b[0;34m)\u001b[0m\u001b[0;34m.\u001b[0m\u001b[0mreshape\u001b[0m\u001b[0;34m(\u001b[0m\u001b[0;34m[\u001b[0m\u001b[0;36m1\u001b[0m\u001b[0;34m,\u001b[0m\u001b[0;36m1\u001b[0m\u001b[0;34m,\u001b[0m\u001b[0mEMBEDDING_DIM\u001b[0m\u001b[0;34m,\u001b[0m\u001b[0mPADDED_LEN\u001b[0m\u001b[0;34m]\u001b[0m\u001b[0;34m)\u001b[0m\u001b[0;34m)\u001b[0m\u001b[0;34m.\u001b[0m\u001b[0mlong\u001b[0m\u001b[0;34m(\u001b[0m\u001b[0;34m)\u001b[0m\u001b[0;34m.\u001b[0m\u001b[0mto\u001b[0m\u001b[0;34m(\u001b[0m\u001b[0mdevice\u001b[0m\u001b[0;34m)\u001b[0m\u001b[0;34m)\u001b[0m\u001b[0;34m\u001b[0m\u001b[0;34m\u001b[0m\u001b[0m\n\u001b[0m\u001b[1;32m      5\u001b[0m     \u001b[0mprint\u001b[0m\u001b[0;34m(\u001b[0m\u001b[0mres\u001b[0m\u001b[0;34m)\u001b[0m\u001b[0;34m\u001b[0m\u001b[0;34m\u001b[0m\u001b[0m\n",
      "\u001b[0;32m~/text/lib/python3.6/site-packages/torch/nn/modules/module.py\u001b[0m in \u001b[0;36m__call__\u001b[0;34m(self, *input, **kwargs)\u001b[0m\n\u001b[1;32m    491\u001b[0m             \u001b[0mresult\u001b[0m \u001b[0;34m=\u001b[0m \u001b[0mself\u001b[0m\u001b[0;34m.\u001b[0m\u001b[0m_slow_forward\u001b[0m\u001b[0;34m(\u001b[0m\u001b[0;34m*\u001b[0m\u001b[0minput\u001b[0m\u001b[0;34m,\u001b[0m \u001b[0;34m**\u001b[0m\u001b[0mkwargs\u001b[0m\u001b[0;34m)\u001b[0m\u001b[0;34m\u001b[0m\u001b[0;34m\u001b[0m\u001b[0m\n\u001b[1;32m    492\u001b[0m         \u001b[0;32melse\u001b[0m\u001b[0;34m:\u001b[0m\u001b[0;34m\u001b[0m\u001b[0;34m\u001b[0m\u001b[0m\n\u001b[0;32m--> 493\u001b[0;31m             \u001b[0mresult\u001b[0m \u001b[0;34m=\u001b[0m \u001b[0mself\u001b[0m\u001b[0;34m.\u001b[0m\u001b[0mforward\u001b[0m\u001b[0;34m(\u001b[0m\u001b[0;34m*\u001b[0m\u001b[0minput\u001b[0m\u001b[0;34m,\u001b[0m \u001b[0;34m**\u001b[0m\u001b[0mkwargs\u001b[0m\u001b[0;34m)\u001b[0m\u001b[0;34m\u001b[0m\u001b[0;34m\u001b[0m\u001b[0m\n\u001b[0m\u001b[1;32m    494\u001b[0m         \u001b[0;32mfor\u001b[0m \u001b[0mhook\u001b[0m \u001b[0;32min\u001b[0m \u001b[0mself\u001b[0m\u001b[0;34m.\u001b[0m\u001b[0m_forward_hooks\u001b[0m\u001b[0;34m.\u001b[0m\u001b[0mvalues\u001b[0m\u001b[0;34m(\u001b[0m\u001b[0;34m)\u001b[0m\u001b[0;34m:\u001b[0m\u001b[0;34m\u001b[0m\u001b[0;34m\u001b[0m\u001b[0m\n\u001b[1;32m    495\u001b[0m             \u001b[0mhook_result\u001b[0m \u001b[0;34m=\u001b[0m \u001b[0mhook\u001b[0m\u001b[0;34m(\u001b[0m\u001b[0mself\u001b[0m\u001b[0;34m,\u001b[0m \u001b[0minput\u001b[0m\u001b[0;34m,\u001b[0m \u001b[0mresult\u001b[0m\u001b[0;34m)\u001b[0m\u001b[0;34m\u001b[0m\u001b[0;34m\u001b[0m\u001b[0m\n",
      "\u001b[0;32m~/Desktop/erez_rl/text_review/TextCNN.py\u001b[0m in \u001b[0;36mforward\u001b[0;34m(self, x)\u001b[0m\n\u001b[1;32m     73\u001b[0m \u001b[0;34m\u001b[0m\u001b[0m\n\u001b[1;32m     74\u001b[0m         \u001b[0;31m# project the features to the labels\u001b[0m\u001b[0;34m\u001b[0m\u001b[0;34m\u001b[0m\u001b[0;34m\u001b[0m\u001b[0m\n\u001b[0;32m---> 75\u001b[0;31m         \u001b[0mx\u001b[0m \u001b[0;34m=\u001b[0m \u001b[0mF\u001b[0m\u001b[0;34m.\u001b[0m\u001b[0mrelu\u001b[0m\u001b[0;34m(\u001b[0m\u001b[0mself\u001b[0m\u001b[0;34m.\u001b[0m\u001b[0mfc1\u001b[0m\u001b[0;34m(\u001b[0m\u001b[0mx\u001b[0m\u001b[0;34m)\u001b[0m\u001b[0;34m)\u001b[0m\u001b[0;34m\u001b[0m\u001b[0;34m\u001b[0m\u001b[0m\n\u001b[0m\u001b[1;32m     76\u001b[0m         \u001b[0mx\u001b[0m \u001b[0;34m=\u001b[0m \u001b[0mself\u001b[0m\u001b[0;34m.\u001b[0m\u001b[0mbn1\u001b[0m\u001b[0;34m(\u001b[0m\u001b[0mx\u001b[0m\u001b[0;34m)\u001b[0m\u001b[0;34m\u001b[0m\u001b[0;34m\u001b[0m\u001b[0m\n\u001b[1;32m     77\u001b[0m         \u001b[0mx\u001b[0m \u001b[0;34m=\u001b[0m \u001b[0mF\u001b[0m\u001b[0;34m.\u001b[0m\u001b[0mdropout\u001b[0m\u001b[0;34m(\u001b[0m\u001b[0mself\u001b[0m\u001b[0;34m.\u001b[0m\u001b[0mdropout1\u001b[0m\u001b[0;34m(\u001b[0m\u001b[0mx\u001b[0m\u001b[0;34m)\u001b[0m\u001b[0;34m)\u001b[0m\u001b[0;34m\u001b[0m\u001b[0;34m\u001b[0m\u001b[0m\n",
      "\u001b[0;32m~/text/lib/python3.6/site-packages/torch/nn/modules/module.py\u001b[0m in \u001b[0;36m__call__\u001b[0;34m(self, *input, **kwargs)\u001b[0m\n\u001b[1;32m    491\u001b[0m             \u001b[0mresult\u001b[0m \u001b[0;34m=\u001b[0m \u001b[0mself\u001b[0m\u001b[0;34m.\u001b[0m\u001b[0m_slow_forward\u001b[0m\u001b[0;34m(\u001b[0m\u001b[0;34m*\u001b[0m\u001b[0minput\u001b[0m\u001b[0;34m,\u001b[0m \u001b[0;34m**\u001b[0m\u001b[0mkwargs\u001b[0m\u001b[0;34m)\u001b[0m\u001b[0;34m\u001b[0m\u001b[0;34m\u001b[0m\u001b[0m\n\u001b[1;32m    492\u001b[0m         \u001b[0;32melse\u001b[0m\u001b[0;34m:\u001b[0m\u001b[0;34m\u001b[0m\u001b[0;34m\u001b[0m\u001b[0m\n\u001b[0;32m--> 493\u001b[0;31m             \u001b[0mresult\u001b[0m \u001b[0;34m=\u001b[0m \u001b[0mself\u001b[0m\u001b[0;34m.\u001b[0m\u001b[0mforward\u001b[0m\u001b[0;34m(\u001b[0m\u001b[0;34m*\u001b[0m\u001b[0minput\u001b[0m\u001b[0;34m,\u001b[0m \u001b[0;34m**\u001b[0m\u001b[0mkwargs\u001b[0m\u001b[0;34m)\u001b[0m\u001b[0;34m\u001b[0m\u001b[0;34m\u001b[0m\u001b[0m\n\u001b[0m\u001b[1;32m    494\u001b[0m         \u001b[0;32mfor\u001b[0m \u001b[0mhook\u001b[0m \u001b[0;32min\u001b[0m \u001b[0mself\u001b[0m\u001b[0;34m.\u001b[0m\u001b[0m_forward_hooks\u001b[0m\u001b[0;34m.\u001b[0m\u001b[0mvalues\u001b[0m\u001b[0;34m(\u001b[0m\u001b[0;34m)\u001b[0m\u001b[0;34m:\u001b[0m\u001b[0;34m\u001b[0m\u001b[0;34m\u001b[0m\u001b[0m\n\u001b[1;32m    495\u001b[0m             \u001b[0mhook_result\u001b[0m \u001b[0;34m=\u001b[0m \u001b[0mhook\u001b[0m\u001b[0;34m(\u001b[0m\u001b[0mself\u001b[0m\u001b[0;34m,\u001b[0m \u001b[0minput\u001b[0m\u001b[0;34m,\u001b[0m \u001b[0mresult\u001b[0m\u001b[0;34m)\u001b[0m\u001b[0;34m\u001b[0m\u001b[0;34m\u001b[0m\u001b[0m\n",
      "\u001b[0;32m~/text/lib/python3.6/site-packages/torch/nn/modules/linear.py\u001b[0m in \u001b[0;36mforward\u001b[0;34m(self, input)\u001b[0m\n\u001b[1;32m     90\u001b[0m     \u001b[0;34m@\u001b[0m\u001b[0mweak_script_method\u001b[0m\u001b[0;34m\u001b[0m\u001b[0;34m\u001b[0m\u001b[0m\n\u001b[1;32m     91\u001b[0m     \u001b[0;32mdef\u001b[0m \u001b[0mforward\u001b[0m\u001b[0;34m(\u001b[0m\u001b[0mself\u001b[0m\u001b[0;34m,\u001b[0m \u001b[0minput\u001b[0m\u001b[0;34m)\u001b[0m\u001b[0;34m:\u001b[0m\u001b[0;34m\u001b[0m\u001b[0;34m\u001b[0m\u001b[0m\n\u001b[0;32m---> 92\u001b[0;31m         \u001b[0;32mreturn\u001b[0m \u001b[0mF\u001b[0m\u001b[0;34m.\u001b[0m\u001b[0mlinear\u001b[0m\u001b[0;34m(\u001b[0m\u001b[0minput\u001b[0m\u001b[0;34m,\u001b[0m \u001b[0mself\u001b[0m\u001b[0;34m.\u001b[0m\u001b[0mweight\u001b[0m\u001b[0;34m,\u001b[0m \u001b[0mself\u001b[0m\u001b[0;34m.\u001b[0m\u001b[0mbias\u001b[0m\u001b[0;34m)\u001b[0m\u001b[0;34m\u001b[0m\u001b[0;34m\u001b[0m\u001b[0m\n\u001b[0m\u001b[1;32m     93\u001b[0m \u001b[0;34m\u001b[0m\u001b[0m\n\u001b[1;32m     94\u001b[0m     \u001b[0;32mdef\u001b[0m \u001b[0mextra_repr\u001b[0m\u001b[0;34m(\u001b[0m\u001b[0mself\u001b[0m\u001b[0;34m)\u001b[0m\u001b[0;34m:\u001b[0m\u001b[0;34m\u001b[0m\u001b[0;34m\u001b[0m\u001b[0m\n",
      "\u001b[0;32m~/text/lib/python3.6/site-packages/torch/nn/functional.py\u001b[0m in \u001b[0;36mlinear\u001b[0;34m(input, weight, bias)\u001b[0m\n\u001b[1;32m   1404\u001b[0m     \u001b[0;32mif\u001b[0m \u001b[0minput\u001b[0m\u001b[0;34m.\u001b[0m\u001b[0mdim\u001b[0m\u001b[0;34m(\u001b[0m\u001b[0;34m)\u001b[0m \u001b[0;34m==\u001b[0m \u001b[0;36m2\u001b[0m \u001b[0;32mand\u001b[0m \u001b[0mbias\u001b[0m \u001b[0;32mis\u001b[0m \u001b[0;32mnot\u001b[0m \u001b[0;32mNone\u001b[0m\u001b[0;34m:\u001b[0m\u001b[0;34m\u001b[0m\u001b[0;34m\u001b[0m\u001b[0m\n\u001b[1;32m   1405\u001b[0m         \u001b[0;31m# fused op is marginally faster\u001b[0m\u001b[0;34m\u001b[0m\u001b[0;34m\u001b[0m\u001b[0;34m\u001b[0m\u001b[0m\n\u001b[0;32m-> 1406\u001b[0;31m         \u001b[0mret\u001b[0m \u001b[0;34m=\u001b[0m \u001b[0mtorch\u001b[0m\u001b[0;34m.\u001b[0m\u001b[0maddmm\u001b[0m\u001b[0;34m(\u001b[0m\u001b[0mbias\u001b[0m\u001b[0;34m,\u001b[0m \u001b[0minput\u001b[0m\u001b[0;34m,\u001b[0m \u001b[0mweight\u001b[0m\u001b[0;34m.\u001b[0m\u001b[0mt\u001b[0m\u001b[0;34m(\u001b[0m\u001b[0;34m)\u001b[0m\u001b[0;34m)\u001b[0m\u001b[0;34m\u001b[0m\u001b[0;34m\u001b[0m\u001b[0m\n\u001b[0m\u001b[1;32m   1407\u001b[0m     \u001b[0;32melse\u001b[0m\u001b[0;34m:\u001b[0m\u001b[0;34m\u001b[0m\u001b[0;34m\u001b[0m\u001b[0m\n\u001b[1;32m   1408\u001b[0m         \u001b[0moutput\u001b[0m \u001b[0;34m=\u001b[0m \u001b[0minput\u001b[0m\u001b[0;34m.\u001b[0m\u001b[0mmatmul\u001b[0m\u001b[0;34m(\u001b[0m\u001b[0mweight\u001b[0m\u001b[0;34m.\u001b[0m\u001b[0mt\u001b[0m\u001b[0;34m(\u001b[0m\u001b[0;34m)\u001b[0m\u001b[0;34m)\u001b[0m\u001b[0;34m\u001b[0m\u001b[0;34m\u001b[0m\u001b[0m\n",
      "\u001b[0;31mRuntimeError\u001b[0m: size mismatch, m1: [1 x 231936], m2: [1536 x 100] at /pytorch/aten/src/THC/generic/THCTensorMathBlas.cu:268"
     ]
    }
   ],
   "source": [
    "#review = r\"Informationally, this SHOWTIME original is essential viewing for enlightening audiences on the dangerous plight of women migrant workers from Los Angeles who are routinely and mysteriously murdered on the border between Juarez, Mexico and El Paso, Texas.Since 1993, hundreds of woman have turned up dead and mutilated and no one seems to either care or have an answer. The fear and death continue.<br /><br />Director Kevin Dobson has brought us Michael Fallon's screenplay THE VIRGIN OF JUAREZ to the screen as a fanciful/possible solution to what may be happening down in Juarez.Though this is but a film, the information about the unsolved murders and the religious fanaticism in the area is crucial.<br /><br />Suggested companion film would be AGNES OF GOD.\"\n",
    "review = \"the movie was perfect\"\n",
    "with torch.no_grad():\n",
    "    res = model(torch.Tensor(embedder.str_to_image(review).reshape([1,1,EMBEDDING_DIM,PADDED_LEN])).long().to(device))\n",
    "    print(res)"
   ]
  },
  {
   "cell_type": "code",
   "execution_count": 21,
   "metadata": {},
   "outputs": [
    {
     "ename": "IndexError",
     "evalue": "Dimension out of range (expected to be in range of [-1, 0], but got 1)",
     "output_type": "error",
     "traceback": [
      "\u001b[0;31m---------------------------------------------------------------------------\u001b[0m",
      "\u001b[0;31mIndexError\u001b[0m                                Traceback (most recent call last)",
      "\u001b[0;32m<ipython-input-21-ceb4685ab942>\u001b[0m in \u001b[0;36m<module>\u001b[0;34m\u001b[0m\n\u001b[0;32m----> 1\u001b[0;31m \u001b[0mtorch\u001b[0m\u001b[0;34m.\u001b[0m\u001b[0mmax\u001b[0m\u001b[0;34m(\u001b[0m\u001b[0mlabels\u001b[0m\u001b[0;34m,\u001b[0m \u001b[0;36m1\u001b[0m\u001b[0;34m)\u001b[0m\u001b[0;34m[\u001b[0m\u001b[0;36m1\u001b[0m\u001b[0;34m]\u001b[0m\u001b[0;34m\u001b[0m\u001b[0;34m\u001b[0m\u001b[0m\n\u001b[0m",
      "\u001b[0;31mIndexError\u001b[0m: Dimension out of range (expected to be in range of [-1, 0], but got 1)"
     ]
    }
   ],
   "source": [
    "torch.max(labels, 1)[1]"
   ]
  },
  {
   "cell_type": "code",
   "execution_count": 22,
   "metadata": {},
   "outputs": [
    {
     "data": {
      "text/plain": [
       "tensor([[-9.9546e+00, -3.7436e+00, -4.1164e-02, -4.0976e+00, -1.9053e+01],\n",
       "        [-3.1130e+01, -6.0497e+01, -4.4649e+01, -3.1474e+01,  0.0000e+00],\n",
       "        [-2.3677e+01, -5.6991e+00, -3.3550e-03, -1.5408e+01, -3.4100e+01],\n",
       "        ...,\n",
       "        [-1.6882e+01, -3.6687e+00, -3.2127e-02, -5.0984e+00, -2.0967e+01],\n",
       "        [-3.7020e+00, -2.5000e-02, -1.0986e+01, -4.8611e+01, -6.0940e+01],\n",
       "        [-2.0660e+00, -1.2974e+01, -1.9221e+01, -1.8284e+01, -1.3547e-01]],\n",
       "       grad_fn=<LogSoftmaxBackward>)"
      ]
     },
     "execution_count": 22,
     "metadata": {},
     "output_type": "execute_result"
    }
   ],
   "source": [
    "model(inputs)\n"
   ]
  },
  {
   "cell_type": "code",
   "execution_count": null,
   "metadata": {},
   "outputs": [],
   "source": []
  }
 ],
 "metadata": {
  "kernelspec": {
   "display_name": "text",
   "language": "python",
   "name": "text"
  },
  "language_info": {
   "codemirror_mode": {
    "name": "ipython",
    "version": 3
   },
   "file_extension": ".py",
   "mimetype": "text/x-python",
   "name": "python",
   "nbconvert_exporter": "python",
   "pygments_lexer": "ipython3",
   "version": "3.6.7"
  }
 },
 "nbformat": 4,
 "nbformat_minor": 2
}
